{
 "cells": [
  {
   "cell_type": "markdown",
   "metadata": {},
   "source": [
    "## Preparation\n",
    "\n",
    "You can skip the preparation, click <a href=\"#here\">here</a> to jump to the `mlforest` part.\n",
    "\n",
    "### Load Data"
   ]
  },
  {
   "cell_type": "code",
   "execution_count": 1,
   "metadata": {},
   "outputs": [],
   "source": [
    "import os\n",
    "import numpy as np\n",
    "import pandas as pd\n",
    "import warnings\n",
    "warnings.filterwarnings('ignore')\n",
    "\n",
    "path = \"./data/train.csv\"\n",
    "kaggle_train_df = pd.read_csv(path)\n",
    "path = \"./data/test.csv\"\n",
    "kaggle_test_df = pd.read_csv(path)"
   ]
  },
  {
   "cell_type": "markdown",
   "metadata": {},
   "source": [
    "### Select Some Columns"
   ]
  },
  {
   "cell_type": "code",
   "execution_count": 2,
   "metadata": {},
   "outputs": [],
   "source": [
    "num_cols = [\n",
    "    '1stFlrSF', '2ndFlrSF', 'LowQualFinSF', 'FullBath', 'HalfBath',\n",
    "    'BedroomAbvGr', 'KitchenAbvGr', 'TotRmsAbvGrd', 'Fireplaces', \n",
    "    'WoodDeckSF', 'OpenPorchSF', 'EnclosedPorch', '3SsnPorch',\n",
    "    'ScreenPorch', 'PoolArea', 'MiscVal', 'MoSold', 'YrSold',\n",
    "    'MSSubClass', 'LotArea', 'OverallQual', 'OverallCond'\n",
    "]\n",
    "\n",
    "cat_cols = [\n",
    "    \"CentralAir\", \"ExterQual\", \"LandSlope\", \"Condition2\", \"ExterCond\",\n",
    "    \"LandContour\", \"HouseStyle\", \"BldgType\", \"RoofStyle\", \"Foundation\",\n",
    "    \"GrLivArea\", \"RoofMatl\", \"Id\", \"Condition1\"\n",
    "]\n",
    "\n",
    "col_selected = {key:[key] for key in num_cols + cat_cols}\n",
    "col_y = \"SalePrice\""
   ]
  },
  {
   "cell_type": "markdown",
   "metadata": {},
   "source": [
    "### Specify Where the Files Are to Be Saved"
   ]
  },
  {
   "cell_type": "code",
   "execution_count": null,
   "metadata": {},
   "outputs": [],
   "source": [
    "cwd = os.getcwd()\n",
    "dbhost = cwd + \"/local_documents\"\n",
    "home_path = cwd + \"/local_storage\"\n",
    "\n",
    "project = \"ml_forest_dev_sample\"\n",
    "\n",
    "db = {\"host\": dbhost, \"project\": project}\n",
    "filepaths = [{\"home\": home_path, \"project\": project}]"
   ]
  },
  {
   "cell_type": "markdown",
   "metadata": {},
   "source": [
    "### Load the Sklearn Classes to Be Used"
   ]
  },
  {
   "cell_type": "code",
   "execution_count": null,
   "metadata": {},
   "outputs": [],
   "source": [
    "from sklearn.preprocessing import StandardScaler, OneHotEncoder\n",
    "from sklearn.linear_model import Lasso\n",
    "from sklearn.svm import SVR\n",
    "from sklearn.ensemble import RandomForestRegressor"
   ]
  },
  {
   "cell_type": "markdown",
   "metadata": {},
   "source": [
    "## Modeling <p><a name=\"here\"></a></p>\n",
    "\n",
    "### Wrap Up the Sklearn Classes for Usage in `ml_forest`\n",
    "\n",
    "- So that the models on the first layer and their predictions will be saved and indexed."
   ]
  },
  {
   "cell_type": "code",
   "execution_count": null,
   "metadata": {},
   "outputs": [],
   "source": [
    "from ml_forest.core.elements.ftrans_base import SklearnRegressor\n",
    "from ml_forest.core.elements.ftrans_base import SklearnUnsupervised\n",
    "\n",
    "class GenerateStandardScalor(SklearnUnsupervised):\n",
    "    def __init__(self):\n",
    "        super(GenerateStandardScalor, self).__init__(model_type=StandardScaler)\n",
    "        self.__essentials = {}\n",
    "    \n",
    "class GenerateOneHotEncode(SklearnUnsupervised):\n",
    "    def __init__(self):\n",
    "        super(GenerateOneHotEncode, self).__init__(model_type=OneHotEncoder, sparse=False)\n",
    "        self.__essentials = {}\n",
    "\n",
    "class GenerateLasso(SklearnRegressor):\n",
    "    def __init__(self, **kwargs):\n",
    "        super(GenerateLasso, self).__init__(model_type=Lasso, **kwargs)\n",
    "        self.__essentials = {}\n",
    "        \n",
    "class GenerateSVR(SklearnRegressor):\n",
    "    def __init__(self, **kwargs):\n",
    "        \n",
    "        super(GenerateSVR, self).__init__(model_type=SVR, **kwargs)\n",
    "        self.__essentials = {}\n",
    "        \n",
    "class GenerateRF(SklearnRegressor):\n",
    "    def __init__(self, **kwargs):\n",
    "        \n",
    "        super(GenerateRF, self).__init__(model_type=RandomForestRegressor, **kwargs)\n",
    "        self.__essentials = {}"
   ]
  },
  {
   "cell_type": "markdown",
   "metadata": {},
   "source": [
    "### Initialize the Pipe"
   ]
  },
  {
   "cell_type": "code",
   "execution_count": null,
   "metadata": {},
   "outputs": [],
   "source": [
    "from ml_forest.pipeline.pipe_init import PipeInit\n",
    "\n",
    "train_init = PipeInit(\n",
    "    data=kaggle_train_df, col_y=col_y, col_selected=col_selected,\n",
    "    lst_layers=[2,3],\n",
    "    db=db, filepaths = filepaths\n",
    ")\n",
    "\n",
    "core_docs = train_init.core\n",
    "init_fnodes = train_init.init_fnodes\n",
    "init_lnode = train_init.init_lnode"
   ]
  },
  {
   "cell_type": "markdown",
   "metadata": {},
   "source": [
    "### Code Below Creates the Following Stacking Structure \n",
    "\n",
    "<img src=\"./img/img1.png\" height=250 width=250>"
   ]
  },
  {
   "cell_type": "code",
   "execution_count": null,
   "metadata": {},
   "outputs": [],
   "source": [
    "from ml_forest.pipeline.nodes.stacking_node import FNode, LNode\n",
    "\n",
    "# Nodes that one-hot encode categorical features\n",
    "dummied_fnodes = []\n",
    "for key in cat_cols:\n",
    "    cat = init_fnodes[key]\n",
    "    one_hot_encoder = GenerateOneHotEncode()\n",
    "    \n",
    "    dummied_fnodes.append(\n",
    "        FNode(core_docs, [cat], one_hot_encoder)\n",
    "    )\n",
    "\n",
    "# nodes that normalize numerical features\n",
    "num_fnodes = []\n",
    "for key in num_cols:\n",
    "    num = init_fnodes[key]\n",
    "    standardizer = GenerateStandardScalor()\n",
    "    \n",
    "    num_fnodes.append(\n",
    "        FNode(core_docs, [num], standardizer)\n",
    "    )\n",
    "\n",
    "# Node that generates new features from one-hot encoded cetegorical features by lasso\n",
    "lasso = GenerateLasso()\n",
    "lasso_node = FNode(core_docs, dummied_fnodes, lasso, init_lnode)\n",
    "\n",
    "# Node that generates new features from numerical features by rf\n",
    "rf = GenerateRF()\n",
    "rf_node = FNode(core_docs, num_fnodes, rf, init_lnode)\n",
    "\n",
    "# Node that makes final output from normalized numerical features and one-hot encoded \n",
    "# categorical features by SVR\n",
    "svr = GenerateSVR()\n",
    "svr_node = FNode(core_docs, [rf_node, lasso_node], svr, init_lnode)"
   ]
  },
  {
   "cell_type": "markdown",
   "metadata": {},
   "source": [
    "### Train the Whole Stacking Models Defined Above\n",
    "\n",
    "- **Notice that the meta data of all new trained models will be saved when the code in the cell below is executed**"
   ]
  },
  {
   "cell_type": "code",
   "execution_count": null,
   "metadata": {},
   "outputs": [],
   "source": [
    "import time\n",
    "from ml_forest.pipeline.links.knitor import Knitor\n",
    "\n",
    "kn = Knitor()\n",
    "\n",
    "start = time.time()\n",
    "svr_feature, svr = kn.f_knit(svr_node)\n",
    "print(time.time()-start)\n",
    "svr_feature.values"
   ]
  },
  {
   "cell_type": "markdown",
   "metadata": {},
   "source": [
    "### Now Retrain the Stacking Structure with Only `lasso` and `svr` Changed\n",
    "\n",
    "<img src=\"./img/img2.png\" height=250 width=250>\n",
    "\n",
    "- **Notice that the meta data of `lasso` and `svr` will be saved when the code in the cell below is executed**"
   ]
  },
  {
   "cell_type": "code",
   "execution_count": null,
   "metadata": {},
   "outputs": [],
   "source": [
    "lasso = GenerateLasso(alpha=0.01)\n",
    "lasso_node = FNode(core_docs, dummied_fnodes, lasso, init_lnode)\n",
    "\n",
    "svr = GenerateSVR(degree=1, C=10)\n",
    "svr_node = FNode(core_docs, [rf_node, lasso_node], svr, init_lnode)\n",
    "\n",
    "kn = Knitor()\n",
    "start = time.time()\n",
    "svr_feature, svr = kn.f_knit(svr_node)\n",
    "print(time.time()-start)\n",
    "svr_feature.values"
   ]
  },
  {
   "cell_type": "markdown",
   "metadata": {},
   "source": [
    "### Now Retrain the Stacking Structure with Only `svr` Changed\n",
    "\n",
    "<img src=\"./img/img3.png\" height=250 width=250>\n",
    "\n",
    "- **Notice that the meta data of `svr` will be saved when the code in the cell below is executed**"
   ]
  },
  {
   "cell_type": "code",
   "execution_count": null,
   "metadata": {},
   "outputs": [],
   "source": [
    "svr = GenerateSVR(degree=1, C=100)\n",
    "svr_node = FNode(core_docs, num_fnodes+[lasso_node], svr, init_lnode)\n",
    "\n",
    "kn = Knitor()\n",
    "start = time.time()\n",
    "svr_feature, svr = kn.f_knit(svr_node)\n",
    "print(time.time()-start)\n",
    "svr_feature.values"
   ]
  }
 ],
 "metadata": {
  "kernelspec": {
   "display_name": "Python 3",
   "language": "python",
   "name": "python3"
  },
  "language_info": {
   "codemirror_mode": {
    "name": "ipython",
    "version": 3
   },
   "file_extension": ".py",
   "mimetype": "text/x-python",
   "name": "python",
   "nbconvert_exporter": "python",
   "pygments_lexer": "ipython3",
   "version": "3.6.4"
  }
 },
 "nbformat": 4,
 "nbformat_minor": 2
}
