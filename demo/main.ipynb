{
 "cells": [
  {
   "cell_type": "code",
   "execution_count": 1,
   "metadata": {},
   "outputs": [],
   "source": [
    "import os\n",
    "import numpy as np\n",
    "import pandas as pd\n",
    "import warnings\n",
    "warnings.filterwarnings('ignore')\n",
    "\n",
    "path = \"./data/train.csv\"\n",
    "kaggle_train_df = pd.read_csv(path)\n",
    "path = \"./data/test.csv\"\n",
    "kaggle_test_df = pd.read_csv(path)"
   ]
  },
  {
   "cell_type": "markdown",
   "metadata": {},
   "source": [
    "### Select Some Columns"
   ]
  },
  {
   "cell_type": "code",
   "execution_count": 2,
   "metadata": {},
   "outputs": [],
   "source": [
    "num_cols = [\n",
    "    '1stFlrSF', '2ndFlrSF', 'LowQualFinSF', 'FullBath', 'HalfBath',\n",
    "    'BedroomAbvGr', 'KitchenAbvGr', 'TotRmsAbvGrd', 'Fireplaces', \n",
    "    'WoodDeckSF', 'OpenPorchSF', 'EnclosedPorch', '3SsnPorch',\n",
    "    'ScreenPorch', 'PoolArea', 'MiscVal', 'MoSold', 'YrSold',\n",
    "    'MSSubClass', 'LotArea', 'OverallQual', 'OverallCond'\n",
    "]\n",
    "\n",
    "cat_cols = [\n",
    "    \"CentralAir\", \"ExterQual\", \"LandSlope\", \"Condition2\", \"ExterCond\",\n",
    "    \"LandContour\", \"HouseStyle\", \"BldgType\", \"RoofStyle\", \"Foundation\",\n",
    "    \"GrLivArea\", \"RoofMatl\", \"Id\", \"Condition1\"\n",
    "]\n",
    "\n",
    "col_selected = {key:[key] for key in num_cols + cat_cols}\n",
    "col_y = \"SalePrice\""
   ]
  },
  {
   "cell_type": "markdown",
   "metadata": {},
   "source": [
    "### Specify Where the Files Are to Be Saved"
   ]
  },
  {
   "cell_type": "code",
   "execution_count": 3,
   "metadata": {},
   "outputs": [],
   "source": [
    "cwd = os.getcwd()\n",
    "dbhost = cwd + \"/local_documents\"\n",
    "home_path = cwd + \"/local_storage\"\n",
    "\n",
    "project = \"ml_forest_dev_sample\"\n",
    "\n",
    "db = {\"host\": dbhost, \"project\": project}\n",
    "filepaths = [{\"home\": home_path, \"project\": project}]"
   ]
  },
  {
   "cell_type": "markdown",
   "metadata": {},
   "source": [
    "### Load the Sklearn Classes to Be Used"
   ]
  },
  {
   "cell_type": "code",
   "execution_count": 4,
   "metadata": {},
   "outputs": [],
   "source": [
    "from sklearn.preprocessing import StandardScaler, OneHotEncoder\n",
    "from sklearn.linear_model import Lasso\n",
    "from sklearn.svm import SVR"
   ]
  },
  {
   "cell_type": "markdown",
   "metadata": {},
   "source": [
    "### Wrap Up the Sklearn Classes for Usage in `ml_forest`"
   ]
  },
  {
   "cell_type": "code",
   "execution_count": 5,
   "metadata": {},
   "outputs": [],
   "source": [
    "from ml_forest.core.elements.ftrans_base import SklearnRegressor\n",
    "from ml_forest.core.elements.ftrans_base import SklearnUnsupervised\n",
    "\n",
    "class GenerateStandardScalor(SklearnUnsupervised):\n",
    "    def __init__(self):\n",
    "        super(GenerateStandardScalor, self).__init__(model_type=StandardScaler)\n",
    "        self.__essentials = {}\n",
    "    \n",
    "class GenerateOneHotEncode(SklearnUnsupervised):\n",
    "    def __init__(self):\n",
    "        super(GenerateOneHotEncode, self).__init__(model_type=OneHotEncoder, sparse=False)\n",
    "        self.__essentials = {}\n",
    "\n",
    "class GenerateLasso(SklearnRegressor):\n",
    "    def __init__(self, **kwargs):\n",
    "        super(GenerateLasso, self).__init__(model_type=Lasso, **kwargs)\n",
    "        self.__essentials = {}\n",
    "        \n",
    "class GenerateSVR(SklearnRegressor):\n",
    "    def __init__(self, **kwargs):\n",
    "        \n",
    "        super(GenerateSVR, self).__init__(model_type=SVR, **kwargs)\n",
    "        self.__essentials = {}"
   ]
  },
  {
   "cell_type": "markdown",
   "metadata": {},
   "source": [
    "### Initialize the Pipe"
   ]
  },
  {
   "cell_type": "code",
   "execution_count": 6,
   "metadata": {},
   "outputs": [
    {
     "name": "stdout",
     "output_type": "stream",
     "text": [
      "The smallest fold contains 243 observations\n",
      "Saving this object into db: <class 'ml_forest.core.elements.frame_base.Frame'>\n",
      "Saving this object into db: <class 'ml_forest.core.elements.label_base.Label'>\n",
      "Saving this object into db: <class 'ml_forest.core.elements.feature_base.Feature'>\n",
      "Saving this object into db: <class 'ml_forest.core.elements.feature_base.Feature'>\n",
      "Saving this object into db: <class 'ml_forest.core.elements.feature_base.Feature'>\n",
      "Saving this object into db: <class 'ml_forest.core.elements.feature_base.Feature'>\n",
      "Saving this object into db: <class 'ml_forest.core.elements.feature_base.Feature'>\n",
      "Saving this object into db: <class 'ml_forest.core.elements.feature_base.Feature'>\n",
      "Saving this object into db: <class 'ml_forest.core.elements.feature_base.Feature'>\n",
      "Saving this object into db: <class 'ml_forest.core.elements.feature_base.Feature'>\n",
      "Saving this object into db: <class 'ml_forest.core.elements.feature_base.Feature'>\n",
      "Saving this object into db: <class 'ml_forest.core.elements.feature_base.Feature'>\n",
      "Saving this object into db: <class 'ml_forest.core.elements.feature_base.Feature'>\n",
      "Saving this object into db: <class 'ml_forest.core.elements.feature_base.Feature'>\n",
      "Saving this object into db: <class 'ml_forest.core.elements.feature_base.Feature'>\n",
      "Saving this object into db: <class 'ml_forest.core.elements.feature_base.Feature'>\n",
      "Saving this object into db: <class 'ml_forest.core.elements.feature_base.Feature'>\n",
      "Saving this object into db: <class 'ml_forest.core.elements.feature_base.Feature'>\n",
      "Saving this object into db: <class 'ml_forest.core.elements.feature_base.Feature'>\n",
      "Saving this object into db: <class 'ml_forest.core.elements.feature_base.Feature'>\n",
      "Saving this object into db: <class 'ml_forest.core.elements.feature_base.Feature'>\n",
      "Saving this object into db: <class 'ml_forest.core.elements.feature_base.Feature'>\n",
      "Saving this object into db: <class 'ml_forest.core.elements.feature_base.Feature'>\n",
      "Saving this object into db: <class 'ml_forest.core.elements.feature_base.Feature'>\n",
      "Saving this object into db: <class 'ml_forest.core.elements.feature_base.Feature'>\n",
      "Saving this object into db: <class 'ml_forest.core.elements.feature_base.Feature'>\n",
      "Saving this object into db: <class 'ml_forest.core.elements.feature_base.Feature'>\n",
      "Saving this object into db: <class 'ml_forest.core.elements.feature_base.Feature'>\n",
      "Saving this object into db: <class 'ml_forest.core.elements.feature_base.Feature'>\n",
      "Saving this object into db: <class 'ml_forest.core.elements.feature_base.Feature'>\n",
      "Saving this object into db: <class 'ml_forest.core.elements.feature_base.Feature'>\n",
      "Saving this object into db: <class 'ml_forest.core.elements.feature_base.Feature'>\n",
      "Saving this object into db: <class 'ml_forest.core.elements.feature_base.Feature'>\n",
      "Saving this object into db: <class 'ml_forest.core.elements.feature_base.Feature'>\n",
      "Saving this object into db: <class 'ml_forest.core.elements.feature_base.Feature'>\n",
      "Saving this object into db: <class 'ml_forest.core.elements.feature_base.Feature'>\n",
      "Saving this object into db: <class 'ml_forest.core.elements.feature_base.Feature'>\n",
      "Saving this object into db: <class 'ml_forest.core.elements.feature_base.Feature'>\n",
      "Saving this object into db: <class 'ml_forest.core.constructions.core_init.CoreInit'>\n",
      "5c7c6c30493e1a1842f4e8f5\n"
     ]
    }
   ],
   "source": [
    "from ml_forest.pipeline.pipe_init import PipeInit\n",
    "\n",
    "train_init = PipeInit(\n",
    "    data=kaggle_train_df, col_y=col_y, col_selected=col_selected,\n",
    "    lst_layers=[2,3],\n",
    "    db=db, filepaths = filepaths\n",
    ")\n",
    "\n",
    "core_docs = train_init.core\n",
    "init_fnodes = train_init.init_fnodes\n",
    "init_lnode = train_init.init_lnode"
   ]
  },
  {
   "cell_type": "markdown",
   "metadata": {},
   "source": [
    "### Creating Nodes"
   ]
  },
  {
   "cell_type": "code",
   "execution_count": 7,
   "metadata": {},
   "outputs": [],
   "source": [
    "from ml_forest.pipeline.nodes.stacking_node import FNode, LNode\n",
    "\n",
    "# Nodes that one-hot encode categorical features\n",
    "dummied_fnodes = []\n",
    "for key in cat_cols:\n",
    "    cat = init_fnodes[key]\n",
    "    one_hot_encoder = GenerateOneHotEncode()\n",
    "    \n",
    "    dummied_fnodes.append(\n",
    "        FNode(core_docs, [cat], one_hot_encoder)\n",
    "    )\n",
    "\n",
    "# nodes that normalize numerical features\n",
    "num_fnodes = []\n",
    "for key in num_cols:\n",
    "    num = init_fnodes[key]\n",
    "    standardizer = GenerateStandardScalor()\n",
    "    \n",
    "    num_fnodes.append(\n",
    "        FNode(core_docs, [num], standardizer)\n",
    "    )\n",
    "\n",
    "# Node that generates new features from one-hot encoded cetegorical features by lasso\n",
    "lasso = GenerateLasso()\n",
    "lasso_node = FNode(core_docs, dummied_fnodes, lasso, init_lnode)\n",
    "\n",
    "# Node that makes final output from normalized numerical features and one-hot encoded \n",
    "# categorical features by SVR\n",
    "svr = GenerateSVR()\n",
    "svr_node = FNode(core_docs, num_fnodes+[lasso_node], svr, init_lnode)"
   ]
  },
  {
   "cell_type": "markdown",
   "metadata": {},
   "source": [
    "### Connect the Nodes to Output Features"
   ]
  },
  {
   "cell_type": "code",
   "execution_count": 8,
   "metadata": {},
   "outputs": [
    {
     "name": "stdout",
     "output_type": "stream",
     "text": [
      "Saving this object into db: <class '__main__.GenerateStandardScalor'>\n",
      "Saving this object into db: <class 'ml_forest.core.elements.feature_base.Feature'>\n",
      "Saving this object into db: <class '__main__.GenerateStandardScalor'>\n",
      "Saving this object into db: <class 'ml_forest.core.elements.feature_base.Feature'>\n",
      "Saving this object into db: <class '__main__.GenerateStandardScalor'>\n",
      "Saving this object into db: <class 'ml_forest.core.elements.feature_base.Feature'>\n",
      "Saving this object into db: <class '__main__.GenerateStandardScalor'>\n",
      "Saving this object into db: <class 'ml_forest.core.elements.feature_base.Feature'>\n",
      "Saving this object into db: <class '__main__.GenerateStandardScalor'>\n",
      "Saving this object into db: <class 'ml_forest.core.elements.feature_base.Feature'>\n",
      "Saving this object into db: <class '__main__.GenerateStandardScalor'>\n",
      "Saving this object into db: <class 'ml_forest.core.elements.feature_base.Feature'>\n",
      "Saving this object into db: <class '__main__.GenerateStandardScalor'>\n",
      "Saving this object into db: <class 'ml_forest.core.elements.feature_base.Feature'>\n",
      "Saving this object into db: <class '__main__.GenerateStandardScalor'>\n",
      "Saving this object into db: <class 'ml_forest.core.elements.feature_base.Feature'>\n",
      "Saving this object into db: <class '__main__.GenerateStandardScalor'>\n",
      "Saving this object into db: <class 'ml_forest.core.elements.feature_base.Feature'>\n",
      "Saving this object into db: <class '__main__.GenerateStandardScalor'>\n",
      "Saving this object into db: <class 'ml_forest.core.elements.feature_base.Feature'>\n",
      "Saving this object into db: <class '__main__.GenerateStandardScalor'>\n",
      "Saving this object into db: <class 'ml_forest.core.elements.feature_base.Feature'>\n",
      "Saving this object into db: <class '__main__.GenerateStandardScalor'>\n",
      "Saving this object into db: <class 'ml_forest.core.elements.feature_base.Feature'>\n",
      "Saving this object into db: <class '__main__.GenerateStandardScalor'>\n",
      "Saving this object into db: <class 'ml_forest.core.elements.feature_base.Feature'>\n",
      "Saving this object into db: <class '__main__.GenerateStandardScalor'>\n",
      "Saving this object into db: <class 'ml_forest.core.elements.feature_base.Feature'>\n",
      "Saving this object into db: <class '__main__.GenerateStandardScalor'>\n",
      "Saving this object into db: <class 'ml_forest.core.elements.feature_base.Feature'>\n",
      "Saving this object into db: <class '__main__.GenerateStandardScalor'>\n",
      "Saving this object into db: <class 'ml_forest.core.elements.feature_base.Feature'>\n",
      "Saving this object into db: <class '__main__.GenerateStandardScalor'>\n",
      "Saving this object into db: <class 'ml_forest.core.elements.feature_base.Feature'>\n",
      "Saving this object into db: <class '__main__.GenerateStandardScalor'>\n",
      "Saving this object into db: <class 'ml_forest.core.elements.feature_base.Feature'>\n",
      "Saving this object into db: <class '__main__.GenerateStandardScalor'>\n",
      "Saving this object into db: <class 'ml_forest.core.elements.feature_base.Feature'>\n",
      "Saving this object into db: <class '__main__.GenerateStandardScalor'>\n",
      "Saving this object into db: <class 'ml_forest.core.elements.feature_base.Feature'>\n",
      "Saving this object into db: <class '__main__.GenerateStandardScalor'>\n",
      "Saving this object into db: <class 'ml_forest.core.elements.feature_base.Feature'>\n",
      "Saving this object into db: <class '__main__.GenerateStandardScalor'>\n",
      "Saving this object into db: <class 'ml_forest.core.elements.feature_base.Feature'>\n",
      "Saving this object into db: <class '__main__.GenerateOneHotEncode'>\n",
      "Saving this object into db: <class 'ml_forest.core.elements.feature_base.Feature'>\n",
      "Saving this object into db: <class '__main__.GenerateOneHotEncode'>\n",
      "Saving this object into db: <class 'ml_forest.core.elements.feature_base.Feature'>\n",
      "Saving this object into db: <class '__main__.GenerateOneHotEncode'>\n",
      "Saving this object into db: <class 'ml_forest.core.elements.feature_base.Feature'>\n",
      "Saving this object into db: <class '__main__.GenerateOneHotEncode'>\n",
      "Saving this object into db: <class 'ml_forest.core.elements.feature_base.Feature'>\n",
      "Saving this object into db: <class '__main__.GenerateOneHotEncode'>\n",
      "Saving this object into db: <class 'ml_forest.core.elements.feature_base.Feature'>\n",
      "Saving this object into db: <class '__main__.GenerateOneHotEncode'>\n",
      "Saving this object into db: <class 'ml_forest.core.elements.feature_base.Feature'>\n",
      "Saving this object into db: <class '__main__.GenerateOneHotEncode'>\n",
      "Saving this object into db: <class 'ml_forest.core.elements.feature_base.Feature'>\n",
      "Saving this object into db: <class '__main__.GenerateOneHotEncode'>\n",
      "Saving this object into db: <class 'ml_forest.core.elements.feature_base.Feature'>\n",
      "Saving this object into db: <class '__main__.GenerateOneHotEncode'>\n",
      "Saving this object into db: <class 'ml_forest.core.elements.feature_base.Feature'>\n",
      "Saving this object into db: <class '__main__.GenerateOneHotEncode'>\n",
      "Saving this object into db: <class 'ml_forest.core.elements.feature_base.Feature'>\n",
      "Saving this object into db: <class '__main__.GenerateOneHotEncode'>\n",
      "Saving this object into db: <class 'ml_forest.core.elements.feature_base.Feature'>\n",
      "Saving this object into db: <class '__main__.GenerateOneHotEncode'>\n",
      "Saving this object into db: <class 'ml_forest.core.elements.feature_base.Feature'>\n",
      "Saving this object into db: <class '__main__.GenerateOneHotEncode'>\n",
      "Saving this object into db: <class 'ml_forest.core.elements.feature_base.Feature'>\n",
      "Saving this object into db: <class '__main__.GenerateOneHotEncode'>\n",
      "Saving this object into db: <class 'ml_forest.core.elements.feature_base.Feature'>\n",
      "Saving this object into db: <class '__main__.GenerateLasso'>\n",
      "Saving this object into db: <class 'ml_forest.core.elements.feature_base.Feature'>\n",
      "Saving this object into db: <class '__main__.GenerateSVR'>\n",
      "Saving this object into db: <class 'ml_forest.core.elements.feature_base.Feature'>\n"
     ]
    }
   ],
   "source": [
    "from ml_forest.pipeline.links.knitor import Knitor\n",
    "\n",
    "kn = Knitor()\n",
    "svr_feature, svr = kn.f_knit(svr_node)"
   ]
  },
  {
   "cell_type": "code",
   "execution_count": 9,
   "metadata": {},
   "outputs": [
    {
     "data": {
      "text/plain": [
       "array([[162900.        ],\n",
       "       [162900.        ],\n",
       "       [162900.        ],\n",
       "       ...,\n",
       "       [163990.        ],\n",
       "       [163989.99999345],\n",
       "       [163990.        ]])"
      ]
     },
     "execution_count": 9,
     "metadata": {},
     "output_type": "execute_result"
    }
   ],
   "source": [
    "svr_feature.values"
   ]
  },
  {
   "cell_type": "code",
   "execution_count": 10,
   "metadata": {},
   "outputs": [
    {
     "name": "stdout",
     "output_type": "stream",
     "text": [
      "Saving this object into db: <class '__main__.GenerateLasso'>\n",
      "Saving this object into db: <class 'ml_forest.core.elements.feature_base.Feature'>\n",
      "Saving this object into db: <class '__main__.GenerateSVR'>\n",
      "Saving this object into db: <class 'ml_forest.core.elements.feature_base.Feature'>\n"
     ]
    },
    {
     "data": {
      "text/plain": [
       "array([[162900. ],\n",
       "       [162900. ],\n",
       "       [162900. ],\n",
       "       ...,\n",
       "       [163989.9],\n",
       "       [163989.9],\n",
       "       [163989.9]])"
      ]
     },
     "execution_count": 10,
     "metadata": {},
     "output_type": "execute_result"
    }
   ],
   "source": [
    "lasso = GenerateLasso(alpha=0.01)\n",
    "lasso_node = FNode(core_docs, dummied_fnodes, lasso, init_lnode)\n",
    "\n",
    "svr = GenerateSVR(degree=1, C=10)\n",
    "svr_node = FNode(core_docs, num_fnodes+[lasso_node], svr, init_lnode)\n",
    "\n",
    "kn = Knitor()\n",
    "svr_feature, svr = kn.f_knit(svr_node)\n",
    "svr_feature.values"
   ]
  },
  {
   "cell_type": "code",
   "execution_count": 11,
   "metadata": {},
   "outputs": [
    {
     "name": "stdout",
     "output_type": "stream",
     "text": [
      "Saving this object into db: <class '__main__.GenerateSVR'>\n",
      "Saving this object into db: <class 'ml_forest.core.elements.feature_base.Feature'>\n"
     ]
    },
    {
     "data": {
      "text/plain": [
       "array([[162899.9],\n",
       "       [162899.9],\n",
       "       [162899.9],\n",
       "       ...,\n",
       "       [163944.9],\n",
       "       [163944.9],\n",
       "       [163944.9]])"
      ]
     },
     "execution_count": 11,
     "metadata": {},
     "output_type": "execute_result"
    }
   ],
   "source": [
    "svr = GenerateSVR(degree=1, C=100)\n",
    "svr_node = FNode(core_docs, num_fnodes+[lasso_node], svr, init_lnode)\n",
    "\n",
    "kn = Knitor()\n",
    "svr_feature, svr = kn.f_knit(svr_node)\n",
    "svr_feature.values"
   ]
  },
  {
   "cell_type": "code",
   "execution_count": null,
   "metadata": {},
   "outputs": [],
   "source": []
  }
 ],
 "metadata": {
  "kernelspec": {
   "display_name": "Python 3",
   "language": "python",
   "name": "python3"
  },
  "language_info": {
   "codemirror_mode": {
    "name": "ipython",
    "version": 3
   },
   "file_extension": ".py",
   "mimetype": "text/x-python",
   "name": "python",
   "nbconvert_exporter": "python",
   "pygments_lexer": "ipython3",
   "version": "3.6.4"
  }
 },
 "nbformat": 4,
 "nbformat_minor": 2
}
